{
 "cells": [
  {
   "cell_type": "code",
   "execution_count": 7,
   "id": "2a389377",
   "metadata": {},
   "outputs": [],
   "source": [
    "data = {}\n",
    "\n",
    "def Home():\n",
    "    \n",
    "    print(\"\\n\\tWelcome to Hotel Python.How can we help you??\")\n",
    "    \n",
    "    while True:\n",
    "        print(\"\\n\\t\\tHotel Management System\")\n",
    "        print(\"\\t\\t<======================>\")\n",
    "        print('''\n",
    "                    1.Booking\n",
    "                    2.Room Info\n",
    "                    3.Restaurant\n",
    "                    4.Payment\n",
    "                    5.Record\n",
    "                    6.Exit\n",
    "               ''')\n",
    "        choice=int(input(\"Enter the option : [1/2/3/4/5/6]:\"))\n",
    "        \n",
    "        while choice not in [1,2,3,4,5,6]:\n",
    "            \n",
    "            print(\"\\n\\tOOPs..It Seems like you entered the  option wrongly\")\n",
    "            choice=int(input(\"Enter the option : [1/2/3/4/5/6]:\"))\n",
    "            \n",
    "        if choice==1:\n",
    "            Booking()\n",
    "            \n",
    "        if choice==2:\n",
    "            Room_Info()\n",
    "            \n",
    "        if choice==3:\n",
    "            Restaurant()\n",
    "            \n",
    "        if choice==4:\n",
    "            Payment()\n",
    "            \n",
    "        if choice==5:\n",
    "            Record()\n",
    "            \n",
    "        if choice==6:\n",
    "            print(\"\\n\\tThanks for visitig Hotel PYTHON\")\n",
    "            print(\"\\n\\tExiting....\")\n",
    "            break\n",
    "\n",
    "# Taken from Geek for Geeks\n",
    "def Room_Info():\n",
    "    print(\"\\n\\t---------------------------------\")\n",
    "    print(\"\\t------- HOTEL ROOMS INFO -------\")\n",
    "    print(\"\\t--------------------------------\")\n",
    "    print(\"\\nSTANDARD NON-AC\")\n",
    "    print(\"---------------------------------------------------------------\")\n",
    "    print(\"Room amenities include: 1 Double Bed, Television, Telephone,\")\n",
    "    print(\"Double-Door Cupboard, 1 Coffee table with 2 sofa, Balcony and\")\n",
    "    print(\"an attached washroom with hot/cold water.\\n\")\n",
    "    print(\"STANDARD NON-AC\")\n",
    "    print(\"---------------------------------------------------------------\")\n",
    "    print(\"Room amenities include: 1 Double Bed, Television, Telephone,\")\n",
    "    print(\"Double-Door Cupboard, 1 Coffee table with 2 sofa, Balcony and\")\n",
    "    print(\"an attached washroom with hot/cold water + Window/Split AC.\\n\")\n",
    "    print(\"3-Bed NON-AC\")\n",
    "    print(\"---------------------------------------------------------------\")\n",
    "    print(\"Room amenities include: 1 Double Bed + 1 Single Bed, Television,\")\n",
    "    print(\"Telephone, a Triple-Door Cupboard, 1 Coffee table with 2 sofa, 1\")\n",
    "    print(\"Side table, Balcony with an Accent table with 2 Chair and an\")\n",
    "    print(\"attached washroom with hot/cold water.\\n\")\n",
    "    print(\"3-Bed AC\")\n",
    "    print(\"---------------------------------------------------------------\")\n",
    "    print(\"Room amenities include: 1 Double Bed + 1 Single Bed, Television,\")\n",
    "    print(\"Telephone, a Triple-Door Cupboard, 1 Coffee table with 2 sofa, \")\n",
    "    print(\"1 Side table, Balcony with an Accent table with 2 Chair and an\")\n",
    "    print(\"attached washroom with hot/cold water + Window/Split AC.\\n\\n\")\n",
    "    \n",
    "    print(\"\\n\\n\\t\\tPress 0 for back to Home\")\n",
    "    i=int(input())\n",
    "    if i==0:\n",
    "        Home()\n",
    "    else:\n",
    "        exit()\n",
    "            \n",
    "            \n",
    "            \n",
    "    "
   ]
  },
  {
   "cell_type": "code",
   "execution_count": 8,
   "id": "938d8858",
   "metadata": {},
   "outputs": [
    {
     "name": "stdout",
     "output_type": "stream",
     "text": [
      "\n",
      "\tWelcome to Hotel Python.How can we help you??\n",
      "\n",
      "\t\tHotel Management System\n",
      "\t\t<======================>\n",
      "\n",
      "                    1.Booking\n",
      "                    2.Room Info\n",
      "                    3.Restaurant\n",
      "                    4.Payment\n",
      "                    5.Record\n",
      "                    6.Exit\n",
      "               \n",
      "Enter the option : [1/2/3/4/5/6]:2\n",
      "\n",
      "\t---------------------------------\n",
      "\t------- HOTEL ROOMS INFO -------\n",
      "\t--------------------------------\n",
      "\n",
      "STANDARD NON-AC\n",
      "---------------------------------------------------------------\n",
      "Room amenities include: 1 Double Bed, Television, Telephone,\n",
      "Double-Door Cupboard, 1 Coffee table with 2 sofa, Balcony and\n",
      "an attached washroom with hot/cold water.\n",
      "\n",
      "STANDARD NON-AC\n",
      "---------------------------------------------------------------\n",
      "Room amenities include: 1 Double Bed, Television, Telephone,\n",
      "Double-Door Cupboard, 1 Coffee table with 2 sofa, Balcony and\n",
      "an attached washroom with hot/cold water + Window/Split AC.\n",
      "\n",
      "3-Bed NON-AC\n",
      "---------------------------------------------------------------\n",
      "Room amenities include: 1 Double Bed + 1 Single Bed, Television,\n",
      "Telephone, a Triple-Door Cupboard, 1 Coffee table with 2 sofa, 1\n",
      "Side table, Balcony with an Accent table with 2 Chair and an\n",
      "attached washroom with hot/cold water.\n",
      "\n",
      "3-Bed AC\n",
      "---------------------------------------------------------------\n",
      "Room amenities include: 1 Double Bed + 1 Single Bed, Television,\n",
      "Telephone, a Triple-Door Cupboard, 1 Coffee table with 2 sofa, \n",
      "1 Side table, Balcony with an Accent table with 2 Chair and an\n",
      "attached washroom with hot/cold water + Window/Split AC.\n",
      "\n",
      "\n",
      "\n",
      "\n",
      "\t\tPress 0 for back to Home\n",
      "6\n",
      "\n",
      "\t\tHotel Management System\n",
      "\t\t<======================>\n",
      "\n",
      "                    1.Booking\n",
      "                    2.Room Info\n",
      "                    3.Restaurant\n",
      "                    4.Payment\n",
      "                    5.Record\n",
      "                    6.Exit\n",
      "               \n",
      "Enter the option : [1/2/3/4/5/6]:2\n",
      "\n",
      "\t---------------------------------\n",
      "\t------- HOTEL ROOMS INFO -------\n",
      "\t--------------------------------\n",
      "\n",
      "STANDARD NON-AC\n",
      "---------------------------------------------------------------\n",
      "Room amenities include: 1 Double Bed, Television, Telephone,\n",
      "Double-Door Cupboard, 1 Coffee table with 2 sofa, Balcony and\n",
      "an attached washroom with hot/cold water.\n",
      "\n",
      "STANDARD NON-AC\n",
      "---------------------------------------------------------------\n",
      "Room amenities include: 1 Double Bed, Television, Telephone,\n",
      "Double-Door Cupboard, 1 Coffee table with 2 sofa, Balcony and\n",
      "an attached washroom with hot/cold water + Window/Split AC.\n",
      "\n",
      "3-Bed NON-AC\n",
      "---------------------------------------------------------------\n",
      "Room amenities include: 1 Double Bed + 1 Single Bed, Television,\n",
      "Telephone, a Triple-Door Cupboard, 1 Coffee table with 2 sofa, 1\n",
      "Side table, Balcony with an Accent table with 2 Chair and an\n",
      "attached washroom with hot/cold water.\n",
      "\n",
      "3-Bed AC\n",
      "---------------------------------------------------------------\n",
      "Room amenities include: 1 Double Bed + 1 Single Bed, Television,\n",
      "Telephone, a Triple-Door Cupboard, 1 Coffee table with 2 sofa, \n",
      "1 Side table, Balcony with an Accent table with 2 Chair and an\n",
      "attached washroom with hot/cold water + Window/Split AC.\n",
      "\n",
      "\n",
      "\n",
      "\n",
      "\t\tPress 0 for back to Home\n",
      "0\n",
      "\n",
      "\tWelcome to Hotel Python.How can we help you??\n",
      "\n",
      "\t\tHotel Management System\n",
      "\t\t<======================>\n",
      "\n",
      "                    1.Booking\n",
      "                    2.Room Info\n",
      "                    3.Restaurant\n",
      "                    4.Payment\n",
      "                    5.Record\n",
      "                    6.Exit\n",
      "               \n",
      "Enter the option : [1/2/3/4/5/6]:6\n",
      "\n",
      "\tThanks for visitig Hotel PYTHON\n",
      "\n",
      "\tExiting....\n",
      "\n",
      "\t\tHotel Management System\n",
      "\t\t<======================>\n",
      "\n",
      "                    1.Booking\n",
      "                    2.Room Info\n",
      "                    3.Restaurant\n",
      "                    4.Payment\n",
      "                    5.Record\n",
      "                    6.Exit\n",
      "               \n",
      "Enter the option : [1/2/3/4/5/6]:6\n",
      "\n",
      "\tThanks for visitig Hotel PYTHON\n",
      "\n",
      "\tExiting....\n"
     ]
    }
   ],
   "source": [
    "Home()"
   ]
  },
  {
   "cell_type": "code",
   "execution_count": null,
   "id": "ef992665",
   "metadata": {},
   "outputs": [],
   "source": []
  },
  {
   "cell_type": "code",
   "execution_count": null,
   "id": "ef825ec4",
   "metadata": {},
   "outputs": [],
   "source": []
  },
  {
   "cell_type": "code",
   "execution_count": null,
   "id": "7c9a1853",
   "metadata": {},
   "outputs": [],
   "source": []
  },
  {
   "cell_type": "code",
   "execution_count": null,
   "id": "ca964349",
   "metadata": {},
   "outputs": [],
   "source": []
  },
  {
   "cell_type": "code",
   "execution_count": null,
   "id": "4d6535a3",
   "metadata": {},
   "outputs": [],
   "source": []
  },
  {
   "cell_type": "code",
   "execution_count": null,
   "id": "f315e4c5",
   "metadata": {},
   "outputs": [],
   "source": []
  },
  {
   "cell_type": "code",
   "execution_count": null,
   "id": "d2f19227",
   "metadata": {},
   "outputs": [],
   "source": []
  },
  {
   "cell_type": "code",
   "execution_count": null,
   "id": "3ee495eb",
   "metadata": {},
   "outputs": [],
   "source": []
  },
  {
   "cell_type": "code",
   "execution_count": null,
   "id": "54eb6818",
   "metadata": {},
   "outputs": [],
   "source": []
  },
  {
   "cell_type": "code",
   "execution_count": null,
   "id": "f0489cb4",
   "metadata": {},
   "outputs": [],
   "source": []
  },
  {
   "cell_type": "code",
   "execution_count": null,
   "id": "c1cb8964",
   "metadata": {},
   "outputs": [],
   "source": []
  },
  {
   "cell_type": "code",
   "execution_count": null,
   "id": "93705a92",
   "metadata": {},
   "outputs": [],
   "source": []
  },
  {
   "cell_type": "code",
   "execution_count": null,
   "id": "68aee641",
   "metadata": {},
   "outputs": [],
   "source": []
  },
  {
   "cell_type": "code",
   "execution_count": null,
   "id": "64812a4d",
   "metadata": {},
   "outputs": [],
   "source": []
  },
  {
   "cell_type": "code",
   "execution_count": null,
   "id": "f8aefae3",
   "metadata": {},
   "outputs": [],
   "source": []
  },
  {
   "cell_type": "code",
   "execution_count": null,
   "id": "456180f2",
   "metadata": {},
   "outputs": [],
   "source": []
  },
  {
   "cell_type": "code",
   "execution_count": null,
   "id": "b40657c3",
   "metadata": {},
   "outputs": [],
   "source": []
  },
  {
   "cell_type": "code",
   "execution_count": null,
   "id": "5cb30c42",
   "metadata": {},
   "outputs": [],
   "source": []
  },
  {
   "cell_type": "code",
   "execution_count": null,
   "id": "53122a9e",
   "metadata": {},
   "outputs": [],
   "source": []
  },
  {
   "cell_type": "code",
   "execution_count": null,
   "id": "100b296b",
   "metadata": {},
   "outputs": [],
   "source": []
  },
  {
   "cell_type": "code",
   "execution_count": null,
   "id": "24331f33",
   "metadata": {},
   "outputs": [],
   "source": []
  },
  {
   "cell_type": "code",
   "execution_count": null,
   "id": "9567e04c",
   "metadata": {},
   "outputs": [],
   "source": []
  },
  {
   "cell_type": "code",
   "execution_count": null,
   "id": "7b3729f1",
   "metadata": {},
   "outputs": [],
   "source": []
  },
  {
   "cell_type": "code",
   "execution_count": null,
   "id": "21d8f3e4",
   "metadata": {},
   "outputs": [],
   "source": []
  },
  {
   "cell_type": "code",
   "execution_count": null,
   "id": "f6740b19",
   "metadata": {},
   "outputs": [],
   "source": []
  },
  {
   "cell_type": "code",
   "execution_count": null,
   "id": "44c6f338",
   "metadata": {},
   "outputs": [],
   "source": []
  },
  {
   "cell_type": "code",
   "execution_count": null,
   "id": "7d88dcd4",
   "metadata": {},
   "outputs": [],
   "source": []
  },
  {
   "cell_type": "code",
   "execution_count": null,
   "id": "650dd74a",
   "metadata": {},
   "outputs": [],
   "source": []
  },
  {
   "cell_type": "code",
   "execution_count": null,
   "id": "252f1961",
   "metadata": {},
   "outputs": [],
   "source": []
  },
  {
   "cell_type": "code",
   "execution_count": null,
   "id": "2099f526",
   "metadata": {},
   "outputs": [],
   "source": []
  },
  {
   "cell_type": "code",
   "execution_count": null,
   "id": "8df1bad6",
   "metadata": {},
   "outputs": [],
   "source": []
  },
  {
   "cell_type": "code",
   "execution_count": null,
   "id": "6abcbae3",
   "metadata": {},
   "outputs": [],
   "source": []
  },
  {
   "cell_type": "code",
   "execution_count": null,
   "id": "39884749",
   "metadata": {},
   "outputs": [],
   "source": []
  },
  {
   "cell_type": "code",
   "execution_count": null,
   "id": "67a4d0bd",
   "metadata": {},
   "outputs": [],
   "source": []
  },
  {
   "cell_type": "code",
   "execution_count": null,
   "id": "0f544299",
   "metadata": {},
   "outputs": [],
   "source": []
  },
  {
   "cell_type": "code",
   "execution_count": null,
   "id": "afd2ce46",
   "metadata": {},
   "outputs": [],
   "source": []
  },
  {
   "cell_type": "code",
   "execution_count": null,
   "id": "0d29dec1",
   "metadata": {},
   "outputs": [],
   "source": []
  },
  {
   "cell_type": "code",
   "execution_count": null,
   "id": "e757b00c",
   "metadata": {},
   "outputs": [],
   "source": []
  },
  {
   "cell_type": "code",
   "execution_count": null,
   "id": "d459d83f",
   "metadata": {},
   "outputs": [],
   "source": []
  },
  {
   "cell_type": "code",
   "execution_count": null,
   "id": "55fdc47e",
   "metadata": {},
   "outputs": [],
   "source": []
  },
  {
   "cell_type": "code",
   "execution_count": null,
   "id": "5637bd64",
   "metadata": {},
   "outputs": [],
   "source": []
  },
  {
   "cell_type": "code",
   "execution_count": null,
   "id": "1316b8fd",
   "metadata": {},
   "outputs": [],
   "source": []
  },
  {
   "cell_type": "code",
   "execution_count": null,
   "id": "f1c29d5d",
   "metadata": {},
   "outputs": [],
   "source": []
  },
  {
   "cell_type": "code",
   "execution_count": null,
   "id": "b8712fe2",
   "metadata": {},
   "outputs": [],
   "source": []
  },
  {
   "cell_type": "code",
   "execution_count": null,
   "id": "72726aee",
   "metadata": {},
   "outputs": [],
   "source": []
  },
  {
   "cell_type": "code",
   "execution_count": null,
   "id": "36cbadea",
   "metadata": {},
   "outputs": [],
   "source": []
  },
  {
   "cell_type": "code",
   "execution_count": null,
   "id": "75877011",
   "metadata": {},
   "outputs": [],
   "source": []
  },
  {
   "cell_type": "code",
   "execution_count": null,
   "id": "1fe4f2ae",
   "metadata": {},
   "outputs": [],
   "source": []
  },
  {
   "cell_type": "code",
   "execution_count": null,
   "id": "ac30c5f2",
   "metadata": {},
   "outputs": [],
   "source": []
  },
  {
   "cell_type": "code",
   "execution_count": null,
   "id": "3a5f2d25",
   "metadata": {},
   "outputs": [],
   "source": []
  },
  {
   "cell_type": "code",
   "execution_count": null,
   "id": "e63c8965",
   "metadata": {},
   "outputs": [],
   "source": []
  },
  {
   "cell_type": "code",
   "execution_count": null,
   "id": "39cd0d2f",
   "metadata": {},
   "outputs": [],
   "source": []
  },
  {
   "cell_type": "code",
   "execution_count": null,
   "id": "31ec6ac1",
   "metadata": {},
   "outputs": [],
   "source": []
  },
  {
   "cell_type": "code",
   "execution_count": null,
   "id": "70db3d29",
   "metadata": {},
   "outputs": [],
   "source": []
  },
  {
   "cell_type": "code",
   "execution_count": null,
   "id": "ab01eb87",
   "metadata": {},
   "outputs": [],
   "source": []
  },
  {
   "cell_type": "code",
   "execution_count": null,
   "id": "d6ee79db",
   "metadata": {},
   "outputs": [],
   "source": []
  },
  {
   "cell_type": "code",
   "execution_count": null,
   "id": "cfcf37f8",
   "metadata": {},
   "outputs": [],
   "source": []
  },
  {
   "cell_type": "code",
   "execution_count": null,
   "id": "57d0d5d2",
   "metadata": {},
   "outputs": [],
   "source": []
  },
  {
   "cell_type": "code",
   "execution_count": null,
   "id": "6d9454ba",
   "metadata": {},
   "outputs": [],
   "source": []
  },
  {
   "cell_type": "code",
   "execution_count": null,
   "id": "225ede94",
   "metadata": {},
   "outputs": [],
   "source": []
  },
  {
   "cell_type": "code",
   "execution_count": null,
   "id": "46b971f2",
   "metadata": {},
   "outputs": [],
   "source": []
  },
  {
   "cell_type": "code",
   "execution_count": null,
   "id": "c96751a6",
   "metadata": {},
   "outputs": [],
   "source": []
  },
  {
   "cell_type": "code",
   "execution_count": null,
   "id": "a729474a",
   "metadata": {},
   "outputs": [],
   "source": []
  },
  {
   "cell_type": "code",
   "execution_count": null,
   "id": "7133a2c5",
   "metadata": {},
   "outputs": [],
   "source": []
  },
  {
   "cell_type": "code",
   "execution_count": null,
   "id": "63dbe2d1",
   "metadata": {},
   "outputs": [],
   "source": []
  },
  {
   "cell_type": "code",
   "execution_count": null,
   "id": "af1b6b4a",
   "metadata": {},
   "outputs": [],
   "source": []
  },
  {
   "cell_type": "code",
   "execution_count": null,
   "id": "1f773925",
   "metadata": {},
   "outputs": [],
   "source": []
  },
  {
   "cell_type": "code",
   "execution_count": null,
   "id": "0665656f",
   "metadata": {},
   "outputs": [],
   "source": []
  },
  {
   "cell_type": "code",
   "execution_count": null,
   "id": "e510c751",
   "metadata": {},
   "outputs": [],
   "source": []
  },
  {
   "cell_type": "code",
   "execution_count": null,
   "id": "15f110a6",
   "metadata": {},
   "outputs": [],
   "source": []
  },
  {
   "cell_type": "code",
   "execution_count": null,
   "id": "5b5bfa17",
   "metadata": {},
   "outputs": [],
   "source": []
  },
  {
   "cell_type": "code",
   "execution_count": null,
   "id": "08528607",
   "metadata": {},
   "outputs": [],
   "source": []
  },
  {
   "cell_type": "code",
   "execution_count": null,
   "id": "b74854e5",
   "metadata": {},
   "outputs": [],
   "source": []
  },
  {
   "cell_type": "code",
   "execution_count": null,
   "id": "ad6a44cc",
   "metadata": {},
   "outputs": [],
   "source": []
  },
  {
   "cell_type": "code",
   "execution_count": null,
   "id": "17777548",
   "metadata": {},
   "outputs": [],
   "source": []
  },
  {
   "cell_type": "code",
   "execution_count": null,
   "id": "cd6f36c7",
   "metadata": {},
   "outputs": [],
   "source": []
  },
  {
   "cell_type": "code",
   "execution_count": null,
   "id": "cf306232",
   "metadata": {},
   "outputs": [],
   "source": []
  },
  {
   "cell_type": "code",
   "execution_count": null,
   "id": "0aa84a02",
   "metadata": {},
   "outputs": [],
   "source": []
  },
  {
   "cell_type": "code",
   "execution_count": null,
   "id": "598f4ec0",
   "metadata": {},
   "outputs": [],
   "source": []
  },
  {
   "cell_type": "code",
   "execution_count": null,
   "id": "fd7a3dc8",
   "metadata": {},
   "outputs": [],
   "source": []
  },
  {
   "cell_type": "code",
   "execution_count": null,
   "id": "ac6741d5",
   "metadata": {},
   "outputs": [],
   "source": []
  },
  {
   "cell_type": "code",
   "execution_count": null,
   "id": "78d724fc",
   "metadata": {},
   "outputs": [],
   "source": []
  },
  {
   "cell_type": "code",
   "execution_count": null,
   "id": "ae68d2ca",
   "metadata": {},
   "outputs": [],
   "source": []
  },
  {
   "cell_type": "code",
   "execution_count": null,
   "id": "43088b7c",
   "metadata": {},
   "outputs": [],
   "source": []
  },
  {
   "cell_type": "code",
   "execution_count": null,
   "id": "204e9571",
   "metadata": {},
   "outputs": [],
   "source": []
  },
  {
   "cell_type": "code",
   "execution_count": null,
   "id": "48efc116",
   "metadata": {},
   "outputs": [],
   "source": []
  },
  {
   "cell_type": "code",
   "execution_count": null,
   "id": "e5f42dc4",
   "metadata": {},
   "outputs": [],
   "source": []
  },
  {
   "cell_type": "code",
   "execution_count": null,
   "id": "5fb3a7b4",
   "metadata": {},
   "outputs": [],
   "source": []
  },
  {
   "cell_type": "code",
   "execution_count": null,
   "id": "ee6f1f29",
   "metadata": {},
   "outputs": [],
   "source": []
  },
  {
   "cell_type": "code",
   "execution_count": null,
   "id": "2c04d388",
   "metadata": {},
   "outputs": [],
   "source": []
  },
  {
   "cell_type": "code",
   "execution_count": null,
   "id": "f73a39d4",
   "metadata": {},
   "outputs": [],
   "source": []
  },
  {
   "cell_type": "code",
   "execution_count": null,
   "id": "ec30ca7a",
   "metadata": {},
   "outputs": [],
   "source": []
  },
  {
   "cell_type": "code",
   "execution_count": null,
   "id": "4b54cf55",
   "metadata": {},
   "outputs": [],
   "source": []
  },
  {
   "cell_type": "code",
   "execution_count": null,
   "id": "8a56287c",
   "metadata": {},
   "outputs": [],
   "source": []
  },
  {
   "cell_type": "code",
   "execution_count": null,
   "id": "81a82955",
   "metadata": {},
   "outputs": [],
   "source": []
  },
  {
   "cell_type": "code",
   "execution_count": null,
   "id": "2d1dbc30",
   "metadata": {},
   "outputs": [],
   "source": []
  },
  {
   "cell_type": "code",
   "execution_count": null,
   "id": "2ab92886",
   "metadata": {},
   "outputs": [],
   "source": []
  }
 ],
 "metadata": {
  "kernelspec": {
   "display_name": "Python 3",
   "language": "python",
   "name": "python3"
  },
  "language_info": {
   "codemirror_mode": {
    "name": "ipython",
    "version": 3
   },
   "file_extension": ".py",
   "mimetype": "text/x-python",
   "name": "python",
   "nbconvert_exporter": "python",
   "pygments_lexer": "ipython3",
   "version": "3.8.8"
  }
 },
 "nbformat": 4,
 "nbformat_minor": 5
}
